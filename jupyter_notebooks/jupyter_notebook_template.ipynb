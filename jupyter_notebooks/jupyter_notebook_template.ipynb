{
 "cells": [
  {
   "cell_type": "markdown",
   "metadata": {},
   "source": [
    "# Jupyter Notebook Template"
   ]
  },
  {
   "cell_type": "raw",
   "metadata": {},
   "source": [
    "Title      : jupyter_notebook_template\n",
    "Author     : Christopher Todd\n",
    "Created_at : 2018-01-01\n",
    "Updated_at : 2018-01-01\n",
    "Description: Jupyter Notebook Template"
   ]
  },
  {
   "cell_type": "raw",
   "metadata": {},
   "source": [
    "Purpose:\n",
    "    Imput the Purpose of the Template Here\n",
    "\n",
    "Steps:\n",
    "    - Step 1\n",
    "    - Step 2\n",
    "    - Step 3\n",
    "    - Step 4"
   ]
  },
  {
   "cell_type": "markdown",
   "metadata": {},
   "source": [
    "# Load the libraries\n",
    "\n",
    "Load All Python libraries required to complete tasks"
   ]
  },
  {
   "cell_type": "code",
   "execution_count": 18,
   "metadata": {},
   "outputs": [],
   "source": [
    "# Python Library Imports\n",
    "\n",
    "import sys\n",
    "import os\n",
    "import numpy as np\n",
    "import pandas as pd\n",
    "import seaborn as sns\n",
    "import matplotlib.pyplot as plt\n",
    "# import statsmodels.api as sm\n",
    "import sklearn\n",
    "\n",
    "from scipy import stats\n",
    "from pandas import Series, DataFrame\n",
    "from pylab import rcParams\n",
    "from sklearn import preprocessing\n",
    "from sklearn.preprocessing import LabelEncoder\n",
    "from sklearn.linear_model import LogisticRegression\n",
    "from sklearn.cross_validation import train_test_split\n",
    "from sklearn import metrics \n",
    "from sklearn.metrics import roc_curve, auc,\\\n",
    "    mean_squared_error, r2_score, classification_report,\\\n",
    "    accuracy_score, precision_score, recall_score,\\\n",
    "    confusion_matrix, precision_recall_fscore_support\n",
    "import statsmodels.formula.api as sm\n",
    "from statsmodels.stats.outliers_influence import\\\n",
    "    variance_inflation_factor "
   ]
  },
  {
   "cell_type": "code",
   "execution_count": 22,
   "metadata": {},
   "outputs": [
    {
     "name": "stdout",
     "output_type": "stream",
     "text": [
      "/Users/ctodd200/Development/Personal Github/ctodd_python_data_science\n"
     ]
    }
   ],
   "source": [
    "cd ../"
   ]
  },
  {
   "cell_type": "code",
   "execution_count": 20,
   "metadata": {},
   "outputs": [],
   "source": [
    "# Custom Python Library Imports\n",
    "\n",
    "from config import config\n",
    "CONFIGS = config.Config.get(env='prod', caller_info=False)"
   ]
  },
  {
   "cell_type": "markdown",
   "metadata": {},
   "source": [
    "# Do Work\n",
    "\n",
    "Do the work that the notebook exists to do"
   ]
  },
  {
   "cell_type": "code",
   "execution_count": null,
   "metadata": {},
   "outputs": [],
   "source": []
  }
 ],
 "metadata": {
  "kernelspec": {
   "display_name": "Python 3",
   "language": "python",
   "name": "python3"
  },
  "language_info": {
   "codemirror_mode": {
    "name": "ipython",
    "version": 3
   },
   "file_extension": ".py",
   "mimetype": "text/x-python",
   "name": "python",
   "nbconvert_exporter": "python",
   "pygments_lexer": "ipython3",
   "version": "3.6.5"
  }
 },
 "nbformat": 4,
 "nbformat_minor": 2
}
